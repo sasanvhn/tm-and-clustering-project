{
  "nbformat": 4,
  "nbformat_minor": 0,
  "metadata": {
    "colab": {
      "provenance": [],
      "authorship_tag": "ABX9TyOI5QClUXIKYS8OtL+J/eCF",
      "include_colab_link": true
    },
    "kernelspec": {
      "name": "python3",
      "display_name": "Python 3"
    },
    "language_info": {
      "name": "python"
    }
  },
  "cells": [
    {
      "cell_type": "markdown",
      "metadata": {
        "id": "view-in-github",
        "colab_type": "text"
      },
      "source": [
        "<a href=\"https://colab.research.google.com/github/sasanvhn/tm-and-clustering-project/blob/main/hw12_IF_SasanVahidinia_1750430.ipynb\" target=\"_parent\"><img src=\"https://colab.research.google.com/assets/colab-badge.svg\" alt=\"Open In Colab\"/></a>"
      ]
    },
    {
      "cell_type": "code",
      "execution_count": 16,
      "metadata": {
        "colab": {
          "base_uri": "https://localhost:8080/"
        },
        "id": "R4p5vP1JOsej",
        "outputId": "2ac692e1-cba8-4b84-d9d7-e59615cc1fa8"
      },
      "outputs": [
        {
          "output_type": "stream",
          "name": "stdout",
          "text": [
            "File ‘data/state-of-the-union.csv’ already there; not retrieving.\n",
            "\n"
          ]
        }
      ],
      "source": [
        "# Make data directory if it doesn't exist\n",
        "!mkdir -p data\n",
        "!mkdir -p models\n",
        "#!wget -nc https://nyc3.digitaloceanspaces.com/ml-files-distro/v1/text-analysis/data/recipes.csv -P data\n",
        "!wget -nc https://nyc3.digitaloceanspaces.com/ml-files-distro/v1/text-analysis/data/state-of-the-union.csv -P data"
      ]
    },
    {
      "cell_type": "markdown",
      "source": [
        "Do Clustering and Topic Modeling for the same data:"
      ],
      "metadata": {
        "id": "JjFo7tGrPgvp"
      }
    },
    {
      "cell_type": "code",
      "source": [
        "import pandas as pd\n",
        "from sklearn.feature_extraction.text import TfidfVectorizer\n",
        "\n",
        "df = pd.read_csv(\"data/state-of-the-union.csv\")\n",
        "\n",
        "# Clean the data\n",
        "df['content'] = df['content'].str.replace(r\"[^A-Za-z ]\", \" \", regex=True).str.lower()\n",
        "\n",
        "print(df.head())"
      ],
      "metadata": {
        "colab": {
          "base_uri": "https://localhost:8080/"
        },
        "id": "fqpDJeIFO8iS",
        "outputId": "b02a0134-80e7-4499-bfd0-5464f7ea8772"
      },
      "execution_count": 17,
      "outputs": [
        {
          "output_type": "stream",
          "name": "stdout",
          "text": [
            "   year                                            content\n",
            "0  1790  george washington january          fellow citi...\n",
            "1  1790   state of the union address george washington ...\n",
            "2  1791   state of the union address george washington ...\n",
            "3  1792   state of the union address george washington ...\n",
            "4  1793   state of the union address george washington ...\n"
          ]
        }
      ]
    },
    {
      "cell_type": "markdown",
      "source": [
        "–Aim for a model with between 5 and 10 clusters / topics (same size in both models):"
      ],
      "metadata": {
        "id": "J7T2tyMNPplz"
      }
    },
    {
      "cell_type": "code",
      "source": [
        "#Clustering\n",
        "from sklearn.cluster import KMeans\n",
        "from gensim import corpora, models\n",
        "from gensim.utils import simple_preprocess\n",
        "\n",
        "# Convert text to TF-IDF features\n",
        "vectorizer = TfidfVectorizer(stop_words='english', max_features=1000)\n",
        "X = vectorizer.fit_transform(df['content'])\n",
        "\n",
        "n_clusters = 5  # Adjust as needed (between 5–10)\n",
        "kmeans = KMeans(n_clusters=n_clusters, random_state=42)\n",
        "df['cluster'] = kmeans.fit_predict(X)\n",
        "\n",
        "print(\"\\nCluster Distribution:\")\n",
        "print(df['cluster'].value_counts())\n",
        "\n",
        "for cluster_id in range(n_clusters):\n",
        "    print(f\"\\nCluster {cluster_id}:\")\n",
        "    print(df[df['cluster'] == cluster_id]['content'].head(3))\n",
        "\n",
        "#Topic Modeling\n",
        "# Tokenize and preprocess the text\n",
        "texts = df['content'].apply(simple_preprocess)\n",
        "dictionary = corpora.Dictionary(texts)\n",
        "dictionary.filter_extremes(no_below=5, no_above=0.5)\n",
        "corpus = [dictionary.doc2bow(text) for text in texts]\n",
        "\n",
        "n_topics = n_clusters\n",
        "lda_model = models.LdaModel(corpus=corpus, num_topics=n_topics, id2word=dictionary, passes=10)\n",
        "\n",
        "print(\"\\nTopics from LDA:\")\n",
        "for idx, topic in lda_model.print_topics(-1):\n",
        "    print(f\"Topic {idx}: {topic}\")\n",
        "\n",
        "doc_topics = [lda_model.get_document_topics(doc) for doc in corpus]\n",
        "dominant_topics = [max(topics, key=lambda x: x[1])[0] for topics in doc_topics]\n",
        "df['dominant_topic'] = dominant_topics"
      ],
      "metadata": {
        "colab": {
          "base_uri": "https://localhost:8080/"
        },
        "id": "2AUn7j3eOxSb",
        "outputId": "91e65ff7-a476-4c72-b18b-7e72dab7c9d6"
      },
      "execution_count": 18,
      "outputs": [
        {
          "output_type": "stream",
          "name": "stdout",
          "text": [
            "\n",
            "Cluster Distribution:\n",
            "cluster\n",
            "0    89\n",
            "1    46\n",
            "2    43\n",
            "3    26\n",
            "4    22\n",
            "Name: count, dtype: int64\n",
            "\n",
            "Cluster 0:\n",
            "40     state of the union address andrew jackson dec...\n",
            "41     state of the union address andrew jackson dec...\n",
            "45     state of the union address andrew jackson dec...\n",
            "Name: content, dtype: object\n",
            "\n",
            "Cluster 1:\n",
            "125     state of the union address woodrow wilson dec...\n",
            "126     state of the union address woodrow wilson dec...\n",
            "128     state of the union address woodrow wilson dec...\n",
            "Name: content, dtype: object\n",
            "\n",
            "Cluster 2:\n",
            "0    george washington january          fellow citi...\n",
            "1     state of the union address george washington ...\n",
            "2     state of the union address george washington ...\n",
            "Name: content, dtype: object\n",
            "\n",
            "Cluster 3:\n",
            "177     state of the union address lyndon b  johnson ...\n",
            "178     state of the union address lyndon b  johnson ...\n",
            "179     state of the union address lyndon b  johnson ...\n",
            "Name: content, dtype: object\n",
            "\n",
            "Cluster 4:\n",
            "204     state of the union address george h w  bush j...\n",
            "205     address on administration goals william j  cl...\n",
            "206     state of the union address william j  clinton...\n",
            "Name: content, dtype: object\n",
            "\n",
            "Topics from LDA:\n",
            "Topic 0: 0.005*\"mexico\" + 0.003*\"minister\" + 0.002*\"convention\" + 0.002*\"intercourse\" + 0.002*\"bank\" + 0.002*\"spain\" + 0.002*\"objects\" + 0.002*\"france\" + 0.002*\"texas\" + 0.002*\"tribes\"\n",
            "Topic 1: 0.007*\"help\" + 0.007*\"americans\" + 0.005*\"tonight\" + 0.005*\"budget\" + 0.004*\"today\" + 0.004*\"jobs\" + 0.004*\"program\" + 0.004*\"programs\" + 0.003*\"billion\" + 0.003*\"million\"\n",
            "Topic 2: 0.008*\"program\" + 0.005*\"million\" + 0.003*\"farm\" + 0.003*\"prices\" + 0.003*\"veterans\" + 0.003*\"billion\" + 0.003*\"budget\" + 0.003*\"agricultural\" + 0.003*\"problem\" + 0.003*\"problems\"\n",
            "Topic 3: 0.003*\"gold\" + 0.003*\"per\" + 0.002*\"islands\" + 0.002*\"silver\" + 0.002*\"cent\" + 0.002*\"cuba\" + 0.002*\"bonds\" + 0.002*\"convention\" + 0.002*\"courts\" + 0.002*\"ships\"\n",
            "Topic 4: 0.005*\"court\" + 0.004*\"per\" + 0.003*\"cent\" + 0.003*\"tariff\" + 0.003*\"canal\" + 0.003*\"conference\" + 0.002*\"board\" + 0.002*\"statute\" + 0.002*\"interstate\" + 0.002*\"bill\"\n"
          ]
        }
      ]
    },
    {
      "cell_type": "markdown",
      "source": [
        "Compare the results:"
      ],
      "metadata": {
        "id": "JJBNGXZxRGl5"
      }
    },
    {
      "cell_type": "code",
      "source": [
        "print(\"\\nCluster Distribution:\")\n",
        "print(df['cluster'].value_counts())\n",
        "\n",
        "print(\"\\nTopic Distribution:\")\n",
        "print(df['dominant_topic'].value_counts())\n",
        "\n",
        "print(\"\\nComparison of Clusters and Topics:\")\n",
        "for i in range(n_clusters):\n",
        "    print(f\"\\nCluster {i} documents:\")\n",
        "    print(df[df['cluster'] == i]['content'].head(2))\n",
        "\n",
        "    print(f\"\\nTopic {i} documents:\")\n",
        "    topic_docs = df[df['dominant_topic'] == i]\n",
        "    print(topic_docs['content'].head(2))\n",
        "\n",
        "print(f\"\\nSum of Squared Errors (SSE): {kmeans.inertia_}\")"
      ],
      "metadata": {
        "colab": {
          "base_uri": "https://localhost:8080/"
        },
        "id": "Y1zxPxzXPPpp",
        "outputId": "a02153b6-76a7-4c55-94fd-31fd34125852"
      },
      "execution_count": 19,
      "outputs": [
        {
          "output_type": "stream",
          "name": "stdout",
          "text": [
            "\n",
            "Cluster Distribution:\n",
            "cluster\n",
            "0    89\n",
            "1    46\n",
            "2    43\n",
            "3    26\n",
            "4    22\n",
            "Name: count, dtype: int64\n",
            "\n",
            "Topic Distribution:\n",
            "dominant_topic\n",
            "0    76\n",
            "1    69\n",
            "3    49\n",
            "2    27\n",
            "4     5\n",
            "Name: count, dtype: int64\n",
            "\n",
            "Comparison of Clusters and Topics:\n",
            "\n",
            "Cluster 0 documents:\n",
            "40     state of the union address andrew jackson dec...\n",
            "41     state of the union address andrew jackson dec...\n",
            "Name: content, dtype: object\n",
            "\n",
            "Topic 0 documents:\n",
            "0    george washington january          fellow citi...\n",
            "1     state of the union address george washington ...\n",
            "Name: content, dtype: object\n",
            "\n",
            "Cluster 1 documents:\n",
            "125     state of the union address woodrow wilson dec...\n",
            "126     state of the union address woodrow wilson dec...\n",
            "Name: content, dtype: object\n",
            "\n",
            "Topic 1 documents:\n",
            "146     state of the union address franklin d  roosev...\n",
            "149     state of the union address franklin d  roosev...\n",
            "Name: content, dtype: object\n",
            "\n",
            "Cluster 2 documents:\n",
            "0    george washington january          fellow citi...\n",
            "1     state of the union address george washington ...\n",
            "Name: content, dtype: object\n",
            "\n",
            "Topic 2 documents:\n",
            "124     state of the union address woodrow wilson dec...\n",
            "129     state of the union address woodrow wilson dec...\n",
            "Name: content, dtype: object\n",
            "\n",
            "Cluster 3 documents:\n",
            "177     state of the union address lyndon b  johnson ...\n",
            "178     state of the union address lyndon b  johnson ...\n",
            "Name: content, dtype: object\n",
            "\n",
            "Topic 3 documents:\n",
            "72     state of the union address abraham lincoln de...\n",
            "73     state of the union address abraham lincoln de...\n",
            "Name: content, dtype: object\n",
            "\n",
            "Cluster 4 documents:\n",
            "204     state of the union address george h w  bush j...\n",
            "205     address on administration goals william j  cl...\n",
            "Name: content, dtype: object\n",
            "\n",
            "Topic 4 documents:\n",
            "118     state of the union address theodore roosevelt...\n",
            "122     state of the union address william h  taft de...\n",
            "Name: content, dtype: object\n",
            "\n",
            "Sum of Squared Errors (SSE): 95.40227326728085\n"
          ]
        }
      ]
    },
    {
      "cell_type": "markdown",
      "source": [
        "Which is Better?"
      ],
      "metadata": {
        "id": "9WyMUo9pRzp3"
      }
    },
    {
      "cell_type": "markdown",
      "source": [
        "TM is better for this dataset because it provides more thematic insights and overlaps that are important for understanding relationships between documents. Clustering works well for more general groupings but not as good for the detailed connections TM has.\n"
      ],
      "metadata": {
        "id": "bGFjKwEiTSK7"
      }
    },
    {
      "cell_type": "markdown",
      "source": [
        "Are There Similarities?\n",
        "\n"
      ],
      "metadata": {
        "id": "IrGdbPHnTnmJ"
      }
    },
    {
      "cell_type": "markdown",
      "source": [
        "*   Cluster 0 and Topic 0 both include speeches from early presidents like    \n",
        "       George Washington and Andrew Jackson.\n",
        "*   Cluster 3 and Topic 3 group modern presidents, like Lyndon B. Johnson and\n",
        "      Franklin D. Roosevelt.\n",
        "\n",
        "\n"
      ],
      "metadata": {
        "id": "LYw0VEZuTl0Y"
      }
    },
    {
      "cell_type": "markdown",
      "source": [
        "Obtain data with a query in Carrot2, use a query\n",
        "that starts with the same letters are your first and\n",
        "last name\n",
        " • E.g. Sasan Vahidinia -> smart vehicles"
      ],
      "metadata": {
        "id": "vZf4KujGU6Qw"
      }
    },
    {
      "cell_type": "markdown",
      "source": [
        "1 Search and Cluster with Carrot2 -\n",
        "2 Export Documents"
      ],
      "metadata": {
        "id": "GPKsBIVUXAuz"
      }
    },
    {
      "cell_type": "code",
      "source": [
        "file_path = 'web-smart_vehicles-result.csv'\n",
        "data = pd.read_csv(file_path)\n",
        "\n",
        "print(data.head())"
      ],
      "metadata": {
        "colab": {
          "base_uri": "https://localhost:8080/"
        },
        "id": "W2v3eDBORSUN",
        "outputId": "d402ff1f-8523-48ae-a7c3-338f1709bcb4"
      },
      "execution_count": 20,
      "outputs": [
        {
          "output_type": "stream",
          "name": "stdout",
          "text": [
            "        Cluster Level 1  id  \\\n",
            "0  Electric,Grid,Fortwo   3   \n",
            "1  Electric,Grid,Fortwo   9   \n",
            "2  Electric,Grid,Fortwo  48   \n",
            "3  Electric,Grid,Fortwo  49   \n",
            "4  Electric,Grid,Fortwo  63   \n",
            "\n",
            "                                               title  \\\n",
            "0                                       Smart Fortwo   \n",
            "1                               Smart electric drive   \n",
            "2                                         Smart grid   \n",
            "3  Grid congestion mitigation in the era of share...   \n",
            "4          A Review on Smart Grid and Its Components   \n",
            "\n",
            "                                             snippet  \\\n",
            "0  The Smart Fortwo (stylized as \"smart fortwo\") ...   \n",
            "1  The Smart EQ Fortwo, formerly Smart Fortwo ele...   \n",
            "2  integrating electric vehicles into the smart g...   \n",
            "3  Rapid integration of photovoltaic systems and ...   \n",
            "4  A day without electricity is a day of trouble....   \n",
            "\n",
            "                                                 url    sources  \n",
            "0         https://en.wikipedia.org/wiki/Smart_Fortwo  Wikipedia  \n",
            "1  https://en.wikipedia.org/wiki/Smart_electric_d...  Wikipedia  \n",
            "2           https://en.wikipedia.org/wiki/Smart_grid  Wikipedia  \n",
            "3  https://research.wur.nl/en/publications/grid-c...       Base  \n",
            "4            https://doi.org/10.5281/zenodo.10648850       Base  \n"
          ]
        }
      ]
    },
    {
      "cell_type": "markdown",
      "source": [
        " 3 Prepare data: Delete\n",
        "last columns and first\n",
        "line (Check requirements )"
      ],
      "metadata": {
        "id": "644No9k7YAAF"
      }
    },
    {
      "cell_type": "code",
      "source": [
        "cleaned_data = data.drop(columns=['url', 'sources'])\n",
        "\n",
        "print(\"Cleaned Data:\")\n",
        "print(cleaned_data.head())"
      ],
      "metadata": {
        "colab": {
          "base_uri": "https://localhost:8080/"
        },
        "id": "XfVWpr2_X3sk",
        "outputId": "8d385ca9-7ff1-46b3-db1d-e0625a5bbe4c"
      },
      "execution_count": 21,
      "outputs": [
        {
          "output_type": "stream",
          "name": "stdout",
          "text": [
            "Cleaned Data:\n",
            "        Cluster Level 1  id  \\\n",
            "0  Electric,Grid,Fortwo   3   \n",
            "1  Electric,Grid,Fortwo   9   \n",
            "2  Electric,Grid,Fortwo  48   \n",
            "3  Electric,Grid,Fortwo  49   \n",
            "4  Electric,Grid,Fortwo  63   \n",
            "\n",
            "                                               title  \\\n",
            "0                                       Smart Fortwo   \n",
            "1                               Smart electric drive   \n",
            "2                                         Smart grid   \n",
            "3  Grid congestion mitigation in the era of share...   \n",
            "4          A Review on Smart Grid and Its Components   \n",
            "\n",
            "                                             snippet  \n",
            "0  The Smart Fortwo (stylized as \"smart fortwo\") ...  \n",
            "1  The Smart EQ Fortwo, formerly Smart Fortwo ele...  \n",
            "2  integrating electric vehicles into the smart g...  \n",
            "3  Rapid integration of photovoltaic systems and ...  \n",
            "4  A day without electricity is a day of trouble....  \n"
          ]
        }
      ]
    },
    {
      "cell_type": "markdown",
      "source": [
        "4 Topic Modeling with your data in\n",
        "https://mimno.infosci.cornell.edu/jsLDA"
      ],
      "metadata": {
        "id": "FxKPGzQUYYiX"
      }
    },
    {
      "cell_type": "markdown",
      "source": [
        "It works!"
      ],
      "metadata": {
        "id": "RO5sc5rHYaBj"
      }
    }
  ]
}